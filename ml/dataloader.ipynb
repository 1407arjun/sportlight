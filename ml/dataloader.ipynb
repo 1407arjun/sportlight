{
 "cells": [
  {
   "cell_type": "code",
   "execution_count": 56,
   "metadata": {},
   "outputs": [],
   "source": [
    "import json\n",
    "import pandas as pd\n",
    "import numpy as np\n",
    "import requests\n",
    "import nltk\n",
    "from nltk.corpus import wordnet\n",
    "from sklearn.feature_extraction.text import TfidfVectorizer\n"
   ]
  },
  {
   "cell_type": "code",
   "execution_count": 4,
   "metadata": {},
   "outputs": [
    {
     "name": "stderr",
     "output_type": "stream",
     "text": [
      "[nltk_data] Downloading package wordnet to\n",
      "[nltk_data]     /Users/prathamagrawal/nltk_data...\n",
      "[nltk_data]   Package wordnet is already up-to-date!\n",
      "[nltk_data] Downloading package omw-1.4 to\n",
      "[nltk_data]     /Users/prathamagrawal/nltk_data...\n",
      "[nltk_data]   Package omw-1.4 is already up-to-date!\n"
     ]
    },
    {
     "data": {
      "text/plain": [
       "True"
      ]
     },
     "execution_count": 4,
     "metadata": {},
     "output_type": "execute_result"
    }
   ],
   "source": [
    "nltk.download('wordnet')\n",
    "nltk.download('omw-1.4')"
   ]
  },
  {
   "cell_type": "code",
   "execution_count": 58,
   "metadata": {},
   "outputs": [],
   "source": [
    "d= open ('test.json', \"r\")\n",
    " \n",
    "# Reading from file\n",
    "d = json.loads(d.read())"
   ]
  },
  {
   "cell_type": "code",
   "execution_count": 67,
   "metadata": {},
   "outputs": [],
   "source": [
    "negative = list()\n",
    "positive = list()\n",
    "highlights_positive=[\n",
    "        \"shot\",        \n",
    "        \"six\",\n",
    "        \"four\",\n",
    "        \"boundary\",\n",
    "        \"line\", \n",
    "        \"drive\",\n",
    "        \"celebrate\",\n",
    "        \"placement\",\"beauty\",]\n",
    "hightlights_negative=[\"catch\",\"caught\",\"out\",\"howzzah\",\"stumped\",\"bowled\",\"taken\",\"edged\",\"wicket\",\"review\",\"DRS\"]\n",
    "for i in highlights_positive:\n",
    "    for synset in wordnet.synsets(i):\n",
    "        for lemma in synset.lemmas():\n",
    "            positive.append(lemma.name()) \n",
    "\n",
    "for i in highlights_positive:\n",
    "    for synset in wordnet.synsets(i):\n",
    "        for lemma in synset.lemmas():\n",
    "            positive.append(lemma.name()) "
   ]
  },
  {
   "cell_type": "code",
   "execution_count": 64,
   "metadata": {},
   "outputs": [],
   "source": [
    "l=d['messages']\n",
    "phrases=[]\n",
    "data=[]\n",
    "starttime=[]\n",
    "endtime=[]\n",
    "for i in l:\n",
    "    data.append(list(i.values()))\n"
   ]
  },
  {
   "cell_type": "code",
   "execution_count": 65,
   "metadata": {},
   "outputs": [],
   "source": [
    "\n",
    "for i in range(len(data)):\n",
    "    phrases.append(data[i][1])\n",
    "    starttime.append(data[i][3])\n",
    "    endtime.append(data[i][4])"
   ]
  },
  {
   "cell_type": "code",
   "execution_count": 66,
   "metadata": {},
   "outputs": [
    {
     "data": {
      "text/plain": [
       "['This is where you find.',\n",
       " \"Something's going to give he's been itching to get on strike force, boundary of the final.\",\n",
       " 'Cuts and cuts odd.',\n",
       " \"That's typical.\",\n",
       " 'Tell John.',\n",
       " 'Agent taken the good gadget for slip paste and bouncing this time, movement to physique on gets the outside edge, and they have claimed Apple karanga.',\n",
       " 'Lovely shot.',\n",
       " 'The sangakkara Cover Drive.',\n",
       " \"And so saying, a car has to go over the field if they're stopping them on the ground.\",\n",
       " 'Take the aerial root, not a nice drive down the ground, save your legs for more back-to-back boundaries.',\n",
       " 'Has he gone.',\n",
       " 'Has he been bowled?',\n",
       " 'Round his legs?',\n",
       " 'I think so, the Indian celebrate, its come off.',\n",
       " 'Some part of his body Barbra Jean takes the wicket.',\n",
       " \"What's hit in the Gap?\",\n",
       " 'And that would go all the way from fall.',\n",
       " 'Shot delivery pulled away in the Gap.',\n",
       " 'Would get a boundary for my hella display that shot.',\n",
       " \"Well now, that's a classy short from mileage.\",\n",
       " 'A worker.',\n",
       " 'Brilliant placement, excellent footwork.',\n",
       " 'Now.',\n",
       " 'This is high-quality bedding from both these players.',\n",
       " 'Outside edge.',\n",
       " 'This is a huge Wicked and against the run a play because these two were making batting look easy.',\n",
       " \"And that brings up the 54 mileage, a warden of fifty or forty, nine balls, and now she's relaxed stay there.\",\n",
       " 'She tells 155 23.',\n",
       " 'Slower ball in the air gone.',\n",
       " 'Beautifully.',\n",
       " 'Ball from Zaire.',\n",
       " 'Yes, take a bow.',\n",
       " 'That was a beauty of a slower delivery.',\n",
       " 'Gets the full ball, gets it through into our high-class batting.',\n",
       " 'Pull the way behind Square.',\n",
       " 'There is a man in the Deep.',\n",
       " 'Will he get there?',\n",
       " 'No, four more.',\n",
       " 'Lack of a length in the slot that has gone all the way first, six of the match.',\n",
       " \"And it's a biggie, goes off side.\",\n",
       " 'Save your legs.',\n",
       " 'Mihaela Jai wardner, a high-class, Innings, from a high-class player.',\n",
       " 'The biggest of stages and the Sri Lankan has delivered what an innings.',\n",
       " 'Quicker ball swatted down the ground.',\n",
       " 'For more timid on over mid-on for more.',\n",
       " 'Last ball of the innings in the slot whacked away.',\n",
       " 'What?',\n",
       " 'A way to end the Innings.',\n",
       " 'All the way 46 momentum for Sri Lanka, 18, from the last over.',\n",
       " 'They believe Sri Lanka believe.',\n",
       " 'Oh, this is going to be closed.',\n",
       " 'The finger goes up and bring the table has gone for a review, instantly all Sri Lanka.',\n",
       " 'Need it pretty clip.',\n",
       " 'Please, the corner.',\n",
       " 'No Inside, Edge.',\n",
       " 'That was the only thing that could have saved during the 73.',\n",
       " 'Reds.',\n",
       " 'Once again, the finger goes up to confirm his original decision.',\n",
       " 'Watching it was the Fielder at Square.',\n",
       " \"Like that's a boundary to Gotham got here.\",\n",
       " 'That was glorious.',\n",
       " 'God that of such in Tendulkar in the street Drive.',\n",
       " 'Splendid shot no chance for muttiah muralitharan.',\n",
       " 'He watches the ball.',\n",
       " 'Go by.',\n",
       " \"It's gone for it.\",\n",
       " \"He's going to pick up a boundary.\",\n",
       " 'Outside edge and taken good low catch by Kumar sangakkara and just watch out for the celebration.',\n",
       " 'Lasith.',\n",
       " 'Malinga is Unstoppable.',\n",
       " 'There are collies showing his class.',\n",
       " 'Tit intelligent, great.',\n",
       " 'Little skip down the pitch.',\n",
       " 'Hits it before.',\n",
       " \"That's a good shot over Extra cover.\",\n",
       " \"That's a good strike, Victor.\",\n",
       " 'Spoke nicely.',\n",
       " \"No one deep on the inside as one, bounce over the Rope 54, and it's a very well-placed in exist.\",\n",
       " 'Under Pressure.',\n",
       " 'Lost a couple of tickets 31 42 at one stage.',\n",
       " 'Beautifully played backup for In the are gone.',\n",
       " \"Brilliant, Duchamp with a knack of getting wicked's.\",\n",
       " 'He gets one here, a crucial one.',\n",
       " 'Dushaan hauling a full Coley.',\n",
       " 'Getting a Leading Edge.',\n",
       " 'And what a catch that is?',\n",
       " \"He's a brilliant Fielder.\",\n",
       " 'This time powerful shot into the offside or yes.',\n",
       " \"It's powerful.\",\n",
       " 'Smashed away into the offside and we taught powerful.',\n",
       " \"There's another Smashed away.\",\n",
       " 'Absolutely heaved into the Lakeside.',\n",
       " \"That's one of his favorite shocks, great shot and that brings up the 50, the first 54 — in born, in this tournament and no celebration, you know, there's a bigger mission on here.\",\n",
       " '243 found the needless shot coming down the track.',\n",
       " 'Looking to hit through the off side, gets an Inside Edge and the wall crashes.',\n",
       " 'Two middle stump.',\n",
       " 'Pulled away in Grand fashion.',\n",
       " 'A nice way to open the account.',\n",
       " \"That's a fierce Cricket over the boundary.\",\n",
       " \"That's it.\",\n",
       " 'Very hard.',\n",
       " 'True.',\n",
       " 'The offside.',\n",
       " 'On sides, 12.',\n",
       " \"All he's doing it easily.\",\n",
       " 'Finishes open Stein on magnificent, strike into the crowd, India lift the World Cup.',\n",
       " \"After 28 years, the bodies start in the dressing room and it's an Indian Captain who's been absolutely magnificent in the night of the final.\",\n",
       " \"Well, there's the man Sachin Tendulkar.\",\n",
       " \"He's been carried by his team.\",\n",
       " \"He's loved by his team.\",\n",
       " \"He's loved by his country.\",\n",
       " \"He's loved by the cricketing world.\",\n",
       " 'What?',\n",
       " 'An icon of the game Ms. Dhoni.',\n",
       " \"We're looking like the World Cup trophy, and he will get it from Mr. Sharad.\",\n",
       " 'Pawar the president of the ICC.',\n",
       " 'The Party begins in the mind.']"
      ]
     },
     "execution_count": 66,
     "metadata": {},
     "output_type": "execute_result"
    }
   ],
   "source": []
  },
  {
   "cell_type": "code",
   "execution_count": null,
   "metadata": {},
   "outputs": [],
   "source": []
  }
 ],
 "metadata": {
  "interpreter": {
   "hash": "89159dfaa64e4e1c7c1c721b2c5e03e74cb7512bee140046fb329d4455e78d99"
  },
  "kernelspec": {
   "display_name": "Python 3.9.7 64-bit ('ECG': conda)",
   "language": "python",
   "name": "python3"
  },
  "language_info": {
   "codemirror_mode": {
    "name": "ipython",
    "version": 3
   },
   "file_extension": ".py",
   "mimetype": "text/x-python",
   "name": "python",
   "nbconvert_exporter": "python",
   "pygments_lexer": "ipython3",
   "version": "3.9.7"
  },
  "orig_nbformat": 4
 },
 "nbformat": 4,
 "nbformat_minor": 2
}
