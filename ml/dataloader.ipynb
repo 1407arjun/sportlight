{
 "cells": [
  {
   "cell_type": "code",
   "execution_count": 694,
   "metadata": {},
   "outputs": [],
   "source": [
    "import json\n",
    "import pandas as pd\n",
    "import numpy as np\n",
    "import requests\n",
    "import nltk\n",
    "from nltk.corpus import wordnet\n",
    "from sklearn.feature_extraction.text import TfidfVectorizer\n",
    "from sklearn.feature_extraction.text import CountVectorizer\n",
    "from sklearn.metrics.pairwise import cosine_similarity\n"
   ]
  },
  {
   "cell_type": "code",
   "execution_count": 695,
   "metadata": {},
   "outputs": [
    {
     "name": "stderr",
     "output_type": "stream",
     "text": [
      "[nltk_data] Downloading package wordnet to\n",
      "[nltk_data]     /Users/prathamagrawal/nltk_data...\n",
      "[nltk_data]   Package wordnet is already up-to-date!\n",
      "[nltk_data] Downloading package omw-1.4 to\n",
      "[nltk_data]     /Users/prathamagrawal/nltk_data...\n",
      "[nltk_data]   Package omw-1.4 is already up-to-date!\n"
     ]
    },
    {
     "data": {
      "text/plain": [
       "True"
      ]
     },
     "execution_count": 695,
     "metadata": {},
     "output_type": "execute_result"
    }
   ],
   "source": [
    "nltk.download('wordnet')\n",
    "nltk.download('omw-1.4')"
   ]
  },
  {
   "cell_type": "code",
   "execution_count": 696,
   "metadata": {},
   "outputs": [],
   "source": [
    "d= open ('test.json', \"r\")\n",
    "# Reading from file\n",
    "d = json.loads(d.read())"
   ]
  },
  {
   "cell_type": "code",
   "execution_count": 697,
   "metadata": {},
   "outputs": [],
   "source": [
    "positive = list()\n",
    "\n",
    "add=[\"Straight\",\"bat\",\"ball\",\"biggie\",\"Cover\",\"OnDrive\",\"Square\",\"Forward\",\"stadium\",\"Defence\",\"Sweep\",\"Reverse\",\n",
    "\"FrontFoot \",\"LegGlance \",\"BackFoot\",\"SquareCut\",\"Pull \",\"Shot\",\"Hook\",\"Uppercut\",\"Cut\",\"Helicopter \",\"SwitchHit\",\n",
    "\"Dilscoop\",\"class\",\"bounce\",\"Upper\",\"Uppish\",\"Scoop \",\"Inside\",\"Out\",\"Shots\",\"Bouncer\", \"Outswinger\",\"Inswinger\",\n",
    "\"ReverseSwing\",\"played\",\"LegCutter\",\"OffCutter\",\"Yorker\",\"Slower\",\"Spin\",\"LegBreak \",\"OffBreak\",\"Googly \",\n",
    "\"Doosra\",\"Topspin \",\"CarromBall\",\"Slider\",\"ArmBall\",\"Infield\",\"InnerRing\",\"Outfield\",\"Catching\",\"Wicketkeeper\",\n",
    "\"Slip\",\"Gully\",\"LegSlip\",\"LegGully\",\"Sillypoint\",\"Sillymidoff\",\"Shortleg\",\"Sillymidon\",\"InnerRing\",\"Point\",\"BackwardPoint\",\n",
    "\"MidOff\",\"Cover\",\"MidOn\",\"SquareLeg\",\"Backward \",\"SquareLeg\",\"MidWicket\",\"FineLeg\",\"Outfield\",\"ThirdMan\",\n",
    "\"DeepPoint\",\"BackwardPoint\",\"ExtraCover\",\"LongOff\",\"FineLeg\",\"LongLeg\",\"LongOn\",\"Deep\",\"Cover\",\"played\",\"account\"\n",
    "\"cricket\",\"hard\",\"sides\",\"man\",\"finishes\",\"one\",\"crucial\",\"Captain\",\"shot\",\"six\",\"four\",\"boundary\",\"line\",\"drive\",\n",
    "\"celebrate\",\"placement\",\"beauty\",\"fifty\",\"century\",\"perfect\",\"magnifcient\",\"world\",\"cup\",\"batting\",\"fielding\",\"bowling\",\n",
    "\"catch\",\"caught\",\"out\",\"stumped\",\"one\",\"bowled\",\"night\",\"final\",\"room\",\"taken\",\"edged\",\"wicket\",\"review\",\"DRS\",\"cuts\",\"out\",\"short\"]\n",
    "\n",
    "for i in add:\n",
    "    for synset in wordnet.synsets(i):\n",
    "        for lemma in synset.lemmas():\n",
    "            positive.append(lemma.name()) "
   ]
  },
  {
   "cell_type": "code",
   "execution_count": 698,
   "metadata": {},
   "outputs": [],
   "source": [
    "strings=' '.join(positive)"
   ]
  },
  {
   "cell_type": "code",
   "execution_count": 699,
   "metadata": {},
   "outputs": [],
   "source": [
    "l=d['messages']\n",
    "phrases=[]\n",
    "data=[]\n",
    "starttime=[]\n",
    "for i in l:\n",
    "    data.append(list(i.values()))"
   ]
  },
  {
   "cell_type": "code",
   "execution_count": 700,
   "metadata": {},
   "outputs": [],
   "source": [
    "\n",
    "for i in range(len(data)):\n",
    "    phrases.append(data[i][1])\n",
    "    starttime.append(data[i][5])"
   ]
  },
  {
   "cell_type": "code",
   "execution_count": 701,
   "metadata": {},
   "outputs": [],
   "source": [
    "def create_dataframe(matrix, tokens):\n",
    "    doc_names = [f'doc_{i+1}' for i, _ in enumerate(matrix)]\n",
    "    df = pd.DataFrame(data=matrix, index=doc_names, columns=tokens)\n",
    "    return(df)"
   ]
  },
  {
   "cell_type": "code",
   "execution_count": 702,
   "metadata": {},
   "outputs": [],
   "source": [
    "ans=[]\n",
    "for i in phrases:\n",
    "    data=[i,strings]\n",
    "    Tfidf_vect = TfidfVectorizer()\n",
    "    vector_matrix = Tfidf_vect.fit_transform(data)\n",
    "    tokens = Tfidf_vect.get_feature_names()\n",
    "    create_dataframe(vector_matrix.toarray(),tokens)\n",
    "    cosine_similarity_matrix = cosine_similarity(vector_matrix)\n",
    "    result=create_dataframe(cosine_similarity_matrix,['Phrase','Strings'])\n",
    "    ans.append(result['Phrase'].values[1])"
   ]
  },
  {
   "cell_type": "code",
   "execution_count": 703,
   "metadata": {},
   "outputs": [
    {
     "data": {
      "text/plain": [
       "[0.0,\n",
       " 0.017078888072777857,\n",
       " 0.0,\n",
       " 0.0,\n",
       " 0.0,\n",
       " 0.015134610176140293,\n",
       " 0.0848176441503993,\n",
       " 0.16824438283291993,\n",
       " 0.002229198642735894,\n",
       " 0.037797451774983455,\n",
       " 0.0,\n",
       " 0.0,\n",
       " 0.0,\n",
       " 0.002936372188436223,\n",
       " 0.0025220411815898044,\n",
       " 0.0018314722133561528,\n",
       " 0.0013734752198438875,\n",
       " 0.04485733203427474,\n",
       " 0.05669996351510451,\n",
       " 0.01909573968154195,\n",
       " 0.0,\n",
       " 0.003114481692172774,\n",
       " 0.0,\n",
       " 0.0,\n",
       " 0.007920146845306036,\n",
       " 0.037185683703732,\n",
       " 0.002544557881261913,\n",
       " 0.0,\n",
       " 0.01372539429863902,\n",
       " 0.0,\n",
       " 0.015972407168464226,\n",
       " 0.0556669275631554,\n",
       " 0.003473125649644071,\n",
       " 0.014027257116652168,\n",
       " 0.02822324964860152,\n",
       " 0.03045945166252487,\n",
       " 0.023923020797265437,\n",
       " 0.004911848682306971,\n",
       " 0.002835958371137205,\n",
       " 0.01077591904741086,\n",
       " 0.0,\n",
       " 0.010093222562234327,\n",
       " 0.0,\n",
       " 0.01077591904741086,\n",
       " 0.0010772449776881787,\n",
       " 0.011995726871368921,\n",
       " 0.0,\n",
       " 0.0019408753873519375,\n",
       " 0.003172364600213932,\n",
       " 0.0,\n",
       " 0.0,\n",
       " 0.010692553292519317,\n",
       " 0.001038130331880646,\n",
       " 0.0,\n",
       " 0.020563340976306344,\n",
       " 0.0014809948277949075,\n",
       " 0.0,\n",
       " 0.0017992151833653989,\n",
       " 0.02305614943236004,\n",
       " 0.0022863445353776585,\n",
       " 0.0,\n",
       " 0.020147345982339263,\n",
       " 0.04081019726543345,\n",
       " 0.013503954916420645,\n",
       " 0.0,\n",
       " 0.0,\n",
       " 0.005209840199677925,\n",
       " 0.07962110448486615,\n",
       " 0.0,\n",
       " 0.0,\n",
       " 0.007457860164877182,\n",
       " 0.0,\n",
       " 0.0029113448738459615,\n",
       " 0.0,\n",
       " 0.14779082986973668,\n",
       " 0.001038130331880646,\n",
       " 0.0,\n",
       " 0.033981441269816406,\n",
       " 0.0,\n",
       " 0.014195314852796442,\n",
       " 0.0014190455841500726,\n",
       " 0.0,\n",
       " 0.03227398353014031,\n",
       " 0.001038130331880646,\n",
       " 0.006140012028276085,\n",
       " 0.09203306588507233,\n",
       " 0.0,\n",
       " 0.03569151220605387,\n",
       " 0.0,\n",
       " 0.001999576070679636,\n",
       " 0.0031144816921727736,\n",
       " 0.0,\n",
       " 0.02471715887178547,\n",
       " 0.03600438003736701,\n",
       " 0.015061122204797432,\n",
       " 0.004911848682306971,\n",
       " 0.0027472583225116214,\n",
       " 0.0008284097870768651,\n",
       " 0.0024853017354706025,\n",
       " 0.0,\n",
       " 0.03490702736382236,\n",
       " 0.0027320774991867673,\n",
       " 0.0,\n",
       " 0.0012278951209003033,\n",
       " 0.000915726106619426,\n",
       " 0.013752087990555488,\n",
       " 0.008311490146899532,\n",
       " 0.011605978004630481,\n",
       " 0.0,\n",
       " 0.0,\n",
       " 0.0,\n",
       " 0.009116490677077087,\n",
       " 0.0,\n",
       " 0.0,\n",
       " 0.023021933882786873,\n",
       " 0.0,\n",
       " 0.0]"
      ]
     },
     "execution_count": 703,
     "metadata": {},
     "output_type": "execute_result"
    }
   ],
   "source": [
    "ans"
   ]
  },
  {
   "cell_type": "code",
   "execution_count": 704,
   "metadata": {},
   "outputs": [],
   "source": [
    "stack_first=[]\n",
    "stack_last=[]\n",
    "for i in ans:\n",
    "    if(i>=0.001):\n",
    "        index=ans.index(i)\n",
    "        stack_first.append(starttime[index])"
   ]
  },
  {
   "cell_type": "code",
   "execution_count": 705,
   "metadata": {},
   "outputs": [],
   "source": [
    "stack_first.sort()\n",
    "result=[]\n",
    "for i in stack_first:\n",
    "    if(i not in result):\n",
    "        result.append(i)\n"
   ]
  },
  {
   "cell_type": "code",
   "execution_count": 706,
   "metadata": {},
   "outputs": [],
   "source": [
    "values=[]\n",
    "for i in range(len(result)-1):\n",
    "    if(result[i]+3<result[i+1]):\n",
    "        values.append(result[i])\n",
    "        if(result[i+1] not in values)and(result[i] not in values):\n",
    "            values.append(result[i+1])\n"
   ]
  },
  {
   "cell_type": "code",
   "execution_count": 707,
   "metadata": {},
   "outputs": [
    {
     "data": {
      "text/plain": [
       "70"
      ]
     },
     "execution_count": 707,
     "metadata": {},
     "output_type": "execute_result"
    }
   ],
   "source": [
    "len(result)"
   ]
  },
  {
   "cell_type": "code",
   "execution_count": 708,
   "metadata": {},
   "outputs": [
    {
     "data": {
      "text/plain": [
       "54"
      ]
     },
     "execution_count": 708,
     "metadata": {},
     "output_type": "execute_result"
    }
   ],
   "source": [
    "len(values)"
   ]
  },
  {
   "cell_type": "code",
   "execution_count": 709,
   "metadata": {},
   "outputs": [],
   "source": [
    "data={\"keys\":values}"
   ]
  }
 ],
 "metadata": {
  "interpreter": {
   "hash": "89159dfaa64e4e1c7c1c721b2c5e03e74cb7512bee140046fb329d4455e78d99"
  },
  "kernelspec": {
   "display_name": "Python 3.9.7 64-bit ('ECG': conda)",
   "language": "python",
   "name": "python3"
  },
  "language_info": {
   "codemirror_mode": {
    "name": "ipython",
    "version": 3
   },
   "file_extension": ".py",
   "mimetype": "text/x-python",
   "name": "python",
   "nbconvert_exporter": "python",
   "pygments_lexer": "ipython3",
   "version": "3.9.7"
  },
  "orig_nbformat": 4
 },
 "nbformat": 4,
 "nbformat_minor": 2
}
