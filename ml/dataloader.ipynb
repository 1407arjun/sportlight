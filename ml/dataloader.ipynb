{
 "cells": [
  {
   "cell_type": "code",
   "execution_count": 188,
   "metadata": {},
   "outputs": [],
   "source": [
    "import json\n",
    "import pandas as pd\n",
    "import numpy as np\n",
    "import requests\n",
    "import nltk\n",
    "from nltk.corpus import wordnet\n",
    "from sklearn.feature_extraction.text import TfidfVectorizer\n",
    "from sklearn.feature_extraction.text import CountVectorizer\n",
    "from sklearn.metrics.pairwise import cosine_similarity\n"
   ]
  },
  {
   "cell_type": "code",
   "execution_count": 189,
   "metadata": {},
   "outputs": [
    {
     "name": "stderr",
     "output_type": "stream",
     "text": [
      "[nltk_data] Downloading package wordnet to\n",
      "[nltk_data]     /Users/prathamagrawal/nltk_data...\n",
      "[nltk_data]   Package wordnet is already up-to-date!\n",
      "[nltk_data] Downloading package omw-1.4 to\n",
      "[nltk_data]     /Users/prathamagrawal/nltk_data...\n",
      "[nltk_data]   Package omw-1.4 is already up-to-date!\n"
     ]
    },
    {
     "data": {
      "text/plain": [
       "True"
      ]
     },
     "execution_count": 189,
     "metadata": {},
     "output_type": "execute_result"
    }
   ],
   "source": [
    "nltk.download('wordnet')\n",
    "nltk.download('omw-1.4')"
   ]
  },
  {
   "cell_type": "code",
   "execution_count": 369,
   "metadata": {},
   "outputs": [],
   "source": [
    "d= open ('test.json', \"r\")\n",
    " \n",
    "# Reading from file\n",
    "d = json.loads(d.read())"
   ]
  },
  {
   "cell_type": "code",
   "execution_count": 370,
   "metadata": {},
   "outputs": [],
   "source": [
    "negative = list()\n",
    "positive = list()\n",
    "highlights_positive=[\"shot\",\"six\",\"four\",\"boundary\",\"line\",\"drive\",\"celebrate\",\"placement\",\"beauty\",\"fifty\",\"century\",\"perfect\",\"magnifcient\",\"world\",\"cup\",\"batting\",\"fielding\",\"bowling\"]\n",
    "hightlights_negative=[\"catch\",\"caught\",\"out\",\"stumped\",\"bowled\",\"taken\",\"edged\",\"wicket\",\"review\",\"DRS\",\"cuts\",\"out\",\"short\"]\n",
    "for i in highlights_positive:\n",
    "    for synset in wordnet.synsets(i):\n",
    "        for lemma in synset.lemmas():\n",
    "            positive.append(lemma.name()) \n",
    "\n",
    "for i in hightlights_negative:\n",
    "    for synset in wordnet.synsets(i):\n",
    "        for lemma in synset.lemmas():\n",
    "            negative.append(lemma.name()) "
   ]
  },
  {
   "cell_type": "code",
   "execution_count": 371,
   "metadata": {},
   "outputs": [],
   "source": [
    "string_postive=\" \".join(positive)\n",
    "string_negative=\" \".join(negative)\n",
    "strings=string_postive+\" \"+string_negative"
   ]
  },
  {
   "cell_type": "code",
   "execution_count": 372,
   "metadata": {},
   "outputs": [],
   "source": [
    "l=d['messages']\n",
    "phrases=[]\n",
    "data=[]\n",
    "starttime=[]\n",
    "for i in l:\n",
    "    data.append(list(i.values()))"
   ]
  },
  {
   "cell_type": "code",
   "execution_count": 373,
   "metadata": {},
   "outputs": [],
   "source": [
    "\n",
    "for i in range(len(data)):\n",
    "    phrases.append(data[i][1])\n",
    "    starttime.append(data[i][5])"
   ]
  },
  {
   "cell_type": "code",
   "execution_count": 374,
   "metadata": {},
   "outputs": [],
   "source": [
    "def create_dataframe(matrix, tokens):\n",
    "    doc_names = [f'doc_{i+1}' for i, _ in enumerate(matrix)]\n",
    "    df = pd.DataFrame(data=matrix, index=doc_names, columns=tokens)\n",
    "    return(df)"
   ]
  },
  {
   "cell_type": "code",
   "execution_count": 375,
   "metadata": {},
   "outputs": [
    {
     "data": {
      "text/plain": [
       "'Agent taken the good gadget for slip paste and bouncing this time, movement to physique on gets the outside edge, and they have claimed Apple karanga.'"
      ]
     },
     "execution_count": 375,
     "metadata": {},
     "output_type": "execute_result"
    }
   ],
   "source": [
    "phrases[5]"
   ]
  },
  {
   "cell_type": "code",
   "execution_count": 376,
   "metadata": {},
   "outputs": [],
   "source": [
    "ans=[]\n",
    "for i in phrases:\n",
    "    data=[i,strings]\n",
    "    Tfidf_vect = TfidfVectorizer()\n",
    "    vector_matrix = Tfidf_vect.fit_transform(data)\n",
    "    tokens = Tfidf_vect.get_feature_names()\n",
    "    create_dataframe(vector_matrix.toarray(),tokens)\n",
    "    cosine_similarity_matrix = cosine_similarity(vector_matrix)\n",
    "    result=create_dataframe(cosine_similarity_matrix,['Phrase','Strings'])\n",
    "    ans.append(result['Phrase'].values[1])"
   ]
  },
  {
   "cell_type": "code",
   "execution_count": 377,
   "metadata": {},
   "outputs": [
    {
     "data": {
      "text/plain": [
       "[0.0,\n",
       " 0.02037125315310482,\n",
       " 0.0,\n",
       " 0.0,\n",
       " 0.0,\n",
       " 0.008042360924899978,\n",
       " 0.05700092231170727,\n",
       " 0.07361623061317646,\n",
       " 0.0035042296953336927,\n",
       " 0.06832199940386681,\n",
       " 0.0,\n",
       " 0.0,\n",
       " 0.0,\n",
       " 0.004236288023972828,\n",
       " 0.005019667070289381,\n",
       " 0.001822292653129018,\n",
       " 0.0,\n",
       " 0.03170189353846325,\n",
       " 0.05264626155084997,\n",
       " 0.038259767727770885,\n",
       " 0.0,\n",
       " 0.006198345094981897,\n",
       " 0.0,\n",
       " 0.0,\n",
       " 0.015765150409959496,\n",
       " 0.0019043646983356568,\n",
       " 0.0033760049739899314,\n",
       " 0.0,\n",
       " 0.00164853339645774,\n",
       " 0.0,\n",
       " 0.0,\n",
       " 0.1106448597581129,\n",
       " 0.004946170613338008,\n",
       " 0.0021052659048222374,\n",
       " 0.0,\n",
       " 0.00164853339645774,\n",
       " 0.03317620265763173,\n",
       " 0.009776146902279542,\n",
       " 0.0039479994884353605,\n",
       " 0.0,\n",
       " 0.0,\n",
       " 0.0,\n",
       " 0.0,\n",
       " 0.0,\n",
       " 0.0,\n",
       " 0.0022809063962338444,\n",
       " 0.0,\n",
       " 0.0,\n",
       " 0.0,\n",
       " 0.0,\n",
       " 0.0,\n",
       " 0.016233251229216386,\n",
       " 0.0020658767540879,\n",
       " 0.0,\n",
       " 0.01222177000444146,\n",
       " 0.0029474300811034872,\n",
       " 0.0,\n",
       " 0.0011934431440897293,\n",
       " 0.0,\n",
       " 0.004550212149877879,\n",
       " 0.0,\n",
       " 0.040637581466799105,\n",
       " 0.027426119967769336,\n",
       " 0.0,\n",
       " 0.0,\n",
       " 0.0,\n",
       " 0.006912181702497879,\n",
       " 0.11574957913381216,\n",
       " 0.0,\n",
       " 0.0,\n",
       " 0.0,\n",
       " 0.0,\n",
       " 0.0038623787653188826,\n",
       " 0.0,\n",
       " 0.029812734913053272,\n",
       " 0.0020658767540878997,\n",
       " 0.0,\n",
       " 0.0,\n",
       " 0.0,\n",
       " 0.0,\n",
       " 0.0,\n",
       " 0.0,\n",
       " 0.0,\n",
       " 0.0,\n",
       " 0.01222177000444146,\n",
       " 0.1331029936736667,\n",
       " 0.0,\n",
       " 0.023986154470844852,\n",
       " 0.0,\n",
       " 0.0026528050454180177,\n",
       " 0.004131932197033028,\n",
       " 0.0,\n",
       " 0.013151398601280076,\n",
       " 0.023337049945721985,\n",
       " 0.0058023494673435875,\n",
       " 0.009776146902279539,\n",
       " 0.003644742926208539,\n",
       " 0.0,\n",
       " 0.004946170613338008,\n",
       " 0.0,\n",
       " 0.0,\n",
       " 0.0,\n",
       " 0.0,\n",
       " 0.0,\n",
       " 0.0,\n",
       " 0.022406383972907427,\n",
       " 0.0,\n",
       " 0.00164853339645774,\n",
       " 0.0,\n",
       " 0.0,\n",
       " 0.0,\n",
       " 0.016508910363029393,\n",
       " 0.0,\n",
       " 0.0,\n",
       " 0.03782364803787118,\n",
       " 0.0,\n",
       " 0.0]"
      ]
     },
     "execution_count": 377,
     "metadata": {},
     "output_type": "execute_result"
    }
   ],
   "source": [
    "ans"
   ]
  },
  {
   "cell_type": "code",
   "execution_count": 378,
   "metadata": {},
   "outputs": [
    {
     "name": "stdout",
     "output_type": "stream",
     "text": [
      "Something's going to give he's been itching to get on strike force, boundary of the final.\n",
      "Agent taken the good gadget for slip paste and bouncing this time, movement to physique on gets the outside edge, and they have claimed Apple karanga.\n",
      "Lovely shot.\n",
      "The sangakkara Cover Drive.\n",
      "And so saying, a car has to go over the field if they're stopping them on the ground.\n",
      "Take the aerial root, not a nice drive down the ground, save your legs for more back-to-back boundaries.\n",
      "I think so, the Indian celebrate, its come off.\n",
      "Some part of his body Barbra Jean takes the wicket.\n",
      "What's hit in the Gap?\n",
      "Shot delivery pulled away in the Gap.\n",
      "Would get a boundary for my hella display that shot.\n",
      "Well now, that's a classy short from mileage.\n",
      "Brilliant placement, excellent footwork.\n",
      "Outside edge.\n",
      "This is a huge Wicked and against the run a play because these two were making batting look easy.\n",
      "And that brings up the 54 mileage, a warden of fifty or forty, nine balls, and now she's relaxed stay there.\n",
      "Slower ball in the air gone.\n",
      "Yes, take a bow.\n",
      "That was a beauty of a slower delivery.\n",
      "Gets the full ball, gets it through into our high-class batting.\n",
      "Slower ball in the air gone.\n",
      "Will he get there?\n",
      "No, four more.\n",
      "Lack of a length in the slot that has gone all the way first, six of the match.\n",
      "Last ball of the innings in the slot whacked away.\n",
      "The finger goes up and bring the table has gone for a review, instantly all Sri Lanka.\n",
      "Need it pretty clip.\n",
      "No Inside, Edge.\n",
      "That was the only thing that could have saved during the 73.\n",
      "Once again, the finger goes up to confirm his original decision.\n",
      "Like that's a boundary to Gotham got here.\n",
      "God that of such in Tendulkar in the street Drive.\n",
      "Splendid shot no chance for muttiah muralitharan.\n",
      "He's going to pick up a boundary.\n",
      "Outside edge and taken good low catch by Kumar sangakkara and just watch out for the celebration.\n",
      "Little skip down the pitch.\n",
      "That's a good shot over Extra cover.\n",
      "That's a good strike, Victor.\n",
      "No Inside, Edge.\n",
      "And what a catch that is?\n",
      "This time powerful shot into the offside or yes.\n",
      "Smashed away into the offside and we taught powerful.\n",
      "There's another Smashed away.\n",
      "That's one of his favorite shocks, great shot and that brings up the 50, the first 54 â€” in born, in this tournament and no celebration, you know, there's a bigger mission on here.\n",
      "243 found the needless shot coming down the track.\n",
      "Looking to hit through the off side, gets an Inside Edge and the wall crashes.\n",
      "Two middle stump.\n",
      "Pulled away in Grand fashion.\n",
      "That was a beauty of a slower delivery.\n",
      "Finishes open Stein on magnificent, strike into the crowd, India lift the World Cup.\n",
      "Slower ball in the air gone.\n",
      "He's loved by the cricketing world.\n",
      "We're looking like the World Cup trophy, and he will get it from Mr. Sharad.\n"
     ]
    }
   ],
   "source": [
    "stack_first=[]\n",
    "stack_last=[]\n",
    "for i in ans:\n",
    "    if(i>=0.001):\n",
    "        index=ans.index(i)\n",
    "        print(phrases[index])\n",
    "        stack_first.append(starttime[index])"
   ]
  },
  {
   "cell_type": "code",
   "execution_count": 379,
   "metadata": {},
   "outputs": [
    {
     "data": {
      "text/plain": [
       "53"
      ]
     },
     "execution_count": 379,
     "metadata": {},
     "output_type": "execute_result"
    }
   ],
   "source": [
    "len(stack_first)"
   ]
  },
  {
   "cell_type": "code",
   "execution_count": 380,
   "metadata": {},
   "outputs": [],
   "source": [
    "stack_first.sort()"
   ]
  },
  {
   "cell_type": "code",
   "execution_count": 381,
   "metadata": {},
   "outputs": [
    {
     "data": {
      "text/plain": [
       "[8.5,\n",
       " 22.4,\n",
       " 36.9,\n",
       " 39,\n",
       " 43.3,\n",
       " 46.9,\n",
       " 61.5,\n",
       " 64.8,\n",
       " 71.7,\n",
       " 79.2,\n",
       " 81.8,\n",
       " 88.9,\n",
       " 97.5,\n",
       " 108.2,\n",
       " 109.7,\n",
       " 123.2,\n",
       " 135.4,\n",
       " 135.4,\n",
       " 135.4,\n",
       " 139.6,\n",
       " 140.5,\n",
       " 140.5,\n",
       " 149.6,\n",
       " 158.9,\n",
       " 159.6,\n",
       " 163.4,\n",
       " 204.5,\n",
       " 230.5,\n",
       " 238.1,\n",
       " 243.4,\n",
       " 243.4,\n",
       " 244.9,\n",
       " 252,\n",
       " 260.6,\n",
       " 271.3,\n",
       " 278.2,\n",
       " 289.2,\n",
       " 293.6,\n",
       " 317,\n",
       " 322.4,\n",
       " 328,\n",
       " 369.3,\n",
       " 377.9,\n",
       " 385.2,\n",
       " 388.5,\n",
       " 400.5,\n",
       " 416.6,\n",
       " 425.6,\n",
       " 430.2,\n",
       " 433,\n",
       " 467,\n",
       " 493.2,\n",
       " 498.7]"
      ]
     },
     "execution_count": 381,
     "metadata": {},
     "output_type": "execute_result"
    }
   ],
   "source": [
    "stack_first"
   ]
  },
  {
   "cell_type": "code",
   "execution_count": 382,
   "metadata": {},
   "outputs": [],
   "source": [
    "data={\"keys\":stack_first}"
   ]
  }
 ],
 "metadata": {
  "interpreter": {
   "hash": "89159dfaa64e4e1c7c1c721b2c5e03e74cb7512bee140046fb329d4455e78d99"
  },
  "kernelspec": {
   "display_name": "Python 3.9.7 64-bit ('ECG': conda)",
   "language": "python",
   "name": "python3"
  },
  "language_info": {
   "codemirror_mode": {
    "name": "ipython",
    "version": 3
   },
   "file_extension": ".py",
   "mimetype": "text/x-python",
   "name": "python",
   "nbconvert_exporter": "python",
   "pygments_lexer": "ipython3",
   "version": "3.9.7"
  },
  "orig_nbformat": 4
 },
 "nbformat": 4,
 "nbformat_minor": 2
}
