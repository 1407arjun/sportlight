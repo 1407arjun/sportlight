{
 "cells": [
  {
   "cell_type": "code",
   "execution_count": 741,
   "metadata": {},
   "outputs": [],
   "source": [
    "import json\n",
    "import pandas as pd\n",
    "import numpy as np\n",
    "import requests\n",
    "import nltk\n",
    "from nltk.corpus import wordnet\n",
    "from sklearn.feature_extraction.text import TfidfVectorizer\n",
    "from sklearn.feature_extraction.text import CountVectorizer\n",
    "from sklearn.metrics.pairwise import cosine_similarity\n"
   ]
  },
  {
   "cell_type": "code",
   "execution_count": 742,
   "metadata": {},
   "outputs": [
    {
     "name": "stderr",
     "output_type": "stream",
     "text": [
      "[nltk_data] Downloading package wordnet to\n",
      "[nltk_data]     /Users/prathamagrawal/nltk_data...\n",
      "[nltk_data]   Package wordnet is already up-to-date!\n",
      "[nltk_data] Downloading package omw-1.4 to\n",
      "[nltk_data]     /Users/prathamagrawal/nltk_data...\n",
      "[nltk_data]   Package omw-1.4 is already up-to-date!\n"
     ]
    },
    {
     "data": {
      "text/plain": [
       "True"
      ]
     },
     "execution_count": 742,
     "metadata": {},
     "output_type": "execute_result"
    }
   ],
   "source": [
    "nltk.download('wordnet')\n",
    "nltk.download('omw-1.4')"
   ]
  },
  {
   "cell_type": "code",
   "execution_count": 743,
   "metadata": {},
   "outputs": [],
   "source": [
    "d= open ('test.json', \"r\")\n",
    "# Reading from file\n",
    "d = json.loads(d.read())"
   ]
  },
  {
   "cell_type": "code",
   "execution_count": 744,
   "metadata": {},
   "outputs": [],
   "source": [
    "positive = list()\n",
    "\n",
    "add=[\"Straight\",\"bat\",\"ball\",\"biggie\",\"Cover\",\"OnDrive\",\"Square\",\"Forward\",\"stadium\",\"Defence\",\"Sweep\",\"Reverse\",\n",
    "\"FrontFoot \",\"LegGlance \",\"BackFoot\",\"SquareCut\",\"Pull \",\"Shot\",\"Hook\",\"Uppercut\",\"Cut\",\"Helicopter \",\"SwitchHit\",\n",
    "\"Dilscoop\",\"class\",\"bounce\",\"Upper\",\"Uppish\",\"Scoop \",\"Inside\",\"Out\",\"Shots\",\"Bouncer\", \"Outswinger\",\"Inswinger\",\n",
    "\"ReverseSwing\",\"played\",\"LegCutter\",\"OffCutter\",\"Yorker\",\"Slower\",\"Spin\",\"LegBreak \",\"OffBreak\",\"Googly \",\n",
    "\"Doosra\",\"Topspin \",\"CarromBall\",\"Slider\",\"ArmBall\",\"Infield\",\"InnerRing\",\"Outfield\",\"Catching\",\"Wicketkeeper\",\n",
    "\"Slip\",\"Gully\",\"LegSlip\",\"LegGully\",\"Sillypoint\",\"Sillymidoff\",\"Shortleg\",\"Sillymidon\",\"InnerRing\",\"Point\",\"BackwardPoint\",\n",
    "\"MidOff\",\"Cover\",\"MidOn\",\"SquareLeg\",\"Backward \",\"SquareLeg\",\"MidWicket\",\"FineLeg\",\"Outfield\",\"ThirdMan\",\n",
    "\"DeepPoint\",\"BackwardPoint\",\"ExtraCover\",\"LongOff\",\"FineLeg\",\"LongLeg\",\"LongOn\",\"Deep\",\"Cover\",\"played\",\"account\"\n",
    "\"cricket\",\"hard\",\"sides\",\"man\",\"finishes\",\"one\",\"crucial\",\"Captain\",\"shot\",\"six\",\"four\",\"boundary\",\"line\",\"drive\",\n",
    "\"celebrate\",\"placement\",\"beauty\",\"fifty\",\"century\",\"perfect\",\"magnifcient\",\"world\",\"cup\",\"batting\",\"fielding\",\"bowling\",\n",
    "\"catch\",\"caught\",\"out\",\"stumped\",\"one\",\"bowled\",\"night\",\"final\",\"room\",\"taken\",\"edged\",\"wicket\",\"review\",\"DRS\",\"cuts\",\"out\",\"short\"]\n",
    "\n",
    "for i in add:\n",
    "    for synset in wordnet.synsets(i):\n",
    "        for lemma in synset.lemmas():\n",
    "            positive.append(lemma.name()) "
   ]
  },
  {
   "cell_type": "code",
   "execution_count": 745,
   "metadata": {},
   "outputs": [],
   "source": [
    "strings=' '.join(positive)"
   ]
  },
  {
   "cell_type": "code",
   "execution_count": 746,
   "metadata": {},
   "outputs": [],
   "source": [
    "l=d['messages']\n",
    "phrases=[]\n",
    "data=[]\n",
    "starttime=[]\n",
    "for i in l:\n",
    "    data.append(list(i.values()))"
   ]
  },
  {
   "cell_type": "code",
   "execution_count": 747,
   "metadata": {},
   "outputs": [],
   "source": [
    "\n",
    "for i in range(len(data)):\n",
    "    phrases.append(data[i][1])\n",
    "    starttime.append(data[i][5])"
   ]
  },
  {
   "cell_type": "code",
   "execution_count": 748,
   "metadata": {},
   "outputs": [],
   "source": [
    "def create_dataframe(matrix, tokens):\n",
    "    doc_names = [f'doc_{i+1}' for i, _ in enumerate(matrix)]\n",
    "    df = pd.DataFrame(data=matrix, index=doc_names, columns=tokens)\n",
    "    return(df)"
   ]
  },
  {
   "cell_type": "code",
   "execution_count": 749,
   "metadata": {},
   "outputs": [],
   "source": [
    "ans=[]\n",
    "for i in phrases:\n",
    "    data=[i,strings]\n",
    "    Tfidf_vect = TfidfVectorizer()\n",
    "    vector_matrix = Tfidf_vect.fit_transform(data)\n",
    "    tokens = Tfidf_vect.get_feature_names()\n",
    "    create_dataframe(vector_matrix.toarray(),tokens)\n",
    "    cosine_similarity_matrix = cosine_similarity(vector_matrix)\n",
    "    result=create_dataframe(cosine_similarity_matrix,['Phrase','Strings'])\n",
    "    ans.append(result['Phrase'].values[1])"
   ]
  },
  {
   "cell_type": "code",
   "execution_count": 750,
   "metadata": {},
   "outputs": [],
   "source": [
    "stack_first=[]\n",
    "stack_last=[]\n",
    "for i in ans:\n",
    "    if(i>=0.00100000000000):\n",
    "        index=ans.index(i)\n",
    "        stack_first.append(starttime[index])"
   ]
  },
  {
   "cell_type": "code",
   "execution_count": 751,
   "metadata": {},
   "outputs": [],
   "source": [
    "stack_first.sort()\n",
    "result=[]\n",
    "for i in stack_first:\n",
    "    if(i not in result):\n",
    "        result.append(i)"
   ]
  },
  {
   "cell_type": "code",
   "execution_count": 752,
   "metadata": {},
   "outputs": [],
   "source": [
    "values=list()\n",
    "for i in range(len(result)-1):\n",
    "    if(result[i]+7<result[i+1]):\n",
    "        values.append(result[i])\n",
    "        if(result[i+1] not in values):\n",
    "            values.append(result[i+1])"
   ]
  },
  {
   "cell_type": "code",
   "execution_count": 753,
   "metadata": {},
   "outputs": [],
   "source": [
    "res=list()\n",
    "for i in range(len(result)-1):\n",
    "    if(result[i]+8<result[i+1]):\n",
    "        res.append(result[i])\n",
    "        if(result[i+1] not in values) and (result[i] not in values):\n",
    "            res.append(result[i+1])"
   ]
  },
  {
   "cell_type": "code",
   "execution_count": 754,
   "metadata": {},
   "outputs": [],
   "source": [
    "data={\"keys\":res}"
   ]
  }
 ],
 "metadata": {
  "interpreter": {
   "hash": "89159dfaa64e4e1c7c1c721b2c5e03e74cb7512bee140046fb329d4455e78d99"
  },
  "kernelspec": {
   "display_name": "Python 3.9.7 64-bit ('ECG': conda)",
   "language": "python",
   "name": "python3"
  },
  "language_info": {
   "codemirror_mode": {
    "name": "ipython",
    "version": 3
   },
   "file_extension": ".py",
   "mimetype": "text/x-python",
   "name": "python",
   "nbconvert_exporter": "python",
   "pygments_lexer": "ipython3",
   "version": "3.9.7"
  },
  "orig_nbformat": 4
 },
 "nbformat": 4,
 "nbformat_minor": 2
}
